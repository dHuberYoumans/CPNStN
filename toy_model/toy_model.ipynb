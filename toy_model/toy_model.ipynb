{
 "cells": [
  {
   "cell_type": "code",
   "execution_count": 1,
   "metadata": {},
   "outputs": [],
   "source": [
    "import numpy as np\n",
    "import pandas as pd\n",
    "import seaborn as sns\n",
    "import matplotlib.pyplot as plt\n",
    "import time\n",
    "# import tqdm.auto as tqdm\n",
    "from tqdm import tqdm\n",
    "\n",
    "from scipy.linalg import block_diag\n",
    "from scipy.special import binom\n",
    "\n",
    "from itertools import combinations\n",
    "\n",
    "\n",
    "from numpy.typing import ArrayLike"
   ]
  },
  {
   "cell_type": "markdown",
   "metadata": {},
   "source": [
    "### Remarks\n",
    "\n",
    "* [wrapped normal distributions](https://mpmath.org/doc/0.19/functions/elliptic.html#jacobi-theta-functions)\n",
    "\n"
   ]
  },
  {
   "cell_type": "markdown",
   "metadata": {},
   "source": [
    "### Deformation Space\n",
    "\n",
    "Recall that the following three spaces are all diffeomorphic \n",
    "\n",
    "$$Q = \\{ z \\in \\mathbb{C}^{n+1} \\mid \\sum_k z_k^2 = 1 \\}$$\n",
    "\n",
    "$$TS^n = \\{ (x,y) \\mid x \\in S^n, \\langle x , y \\rangle = 0\\}$$\n",
    "\n",
    "$$S^n \\times S^n / \\Delta = \\{(u,v) \\mid u,v \\in S^n, u \\neq v \\}$$\n",
    "\n",
    "The diffeomorphism are given by \n",
    "\n",
    "$$\\Psi \\colon TS^n \\to Q \\quad , \\quad (x,y) \\mapsto (x \\sqrt{1 + \\lVert y \\rVert^2} + i y)$$\n",
    "\n",
    "and \n",
    "\n",
    "$$\\Phi \\colon S^n \\times S^n / \\Delta \\to TS^n \\quad , \\quad (u,v) \\mapsto \\left(u, \\frac{v - \\langle u, v\\rangle u}{1 - \\langle u, v\\rangle}\\right)$$\n",
    "\n",
    "### The Model\n",
    "\n",
    "For $z,w$ in $\\mathbb{CP}^n$: \n",
    "\n",
    "$$S(z,w) = -\\beta \\sum_{a,b} z_a \\bar z_b w_b \\bar w_a$$\n",
    "\n",
    "Now, forget about the $U(1)$ invariance (can be integrated out since compact) and fix the non-compact part of the $\\mathbb{C}^*$ gauge group via \n",
    "\n",
    "$$\\delta( \\lvert z \\rvert^2 - 1)  \\delta( \\lvert w \\rvert^2 - 1)$$ \n",
    "\n",
    "with \n",
    "\n",
    "$$\\lvert z \\rvert^2 = \\sum_a \\lvert z_a \\rvert^2$$\n",
    "\n",
    "Rewrite it in real variables: let $z_a = x_a + i y_a$, $w_a = u_a + i v_a$ and define _real_ vectors $Z = (\\dots,x_a,y_a,\\dots)$ and $W = (\\dots,u_a,v_a,\\dots)$ with $\\lVert Z \\rVert^2 = 1$ and likewise for $W$.\n",
    "\n",
    "Define $h = id + J$ where $J = diag(\\sigma_y, \\dots, \\sigma_y)$ where \n",
    "\n",
    "$$\\sigma_y = \\begin{pmatrix} 0 & -i \\\\ i & 0\\end{pmatrix}$$\n",
    "\n",
    "Then \n",
    "\n",
    "$$S(Z,W) = \\beta \\langle Z , T W \\rangle \\langle W , T Z \\rangle$$\n",
    "\n",
    "where $\\langle \\dots \\rangle$ is the standard inner product in $\\mathbb{R}^{2n+2}$.\n"
   ]
  },
  {
   "cell_type": "code",
   "execution_count": null,
   "metadata": {},
   "outputs": [],
   "source": [
    "# DIFFEOMORPHISMS TS^n <-> Q <-> S^n x S^n / Delta\n",
    "\n",
    "def Psi(p): # TS^n -> Q\n",
    "    x, y = p # unpack point (into base point x, tangent vector y)\n",
    "\n",
    "    z = x*np.sqrt(1 + np.inner(y,y)) + y*1j\n",
    "\n",
    "    return z\n",
    "\n",
    "def invPsi(z): # Q -> TS^n\n",
    "    re, im = (z.real,z.imag) # seperate into re and im part\n",
    "    \n",
    "    x = re / np.sqrt(1 + np.inner(im,im))\n",
    "    y = im\n",
    "    \n",
    "    return (x,y)\n",
    "\n",
    "def Phi(p): # S^n x S^n / Delta -> TS^n\n",
    "    u, v = p # unpack p\n",
    "\n",
    "    x = u # base point\n",
    "    y = (v - np.inner(u,v)*u) / (1 - np.inner(u,v)) # tangent vector \n",
    "\n",
    "    return (x,y)\n",
    "\n",
    "def invPhi(p): # TS^n -> S^n x S^n / Delta\n",
    "    x,y = p # unpack base point, tangent vector\n",
    "\n",
    "    u = x\n",
    "    v = (x*(np.inner(y,y) - 1) + 2*y ) / (np.inner(y,y) + 1)\n",
    "\n",
    "    return u, v\n",
    "\n",
    "\n",
    "# HERMITIAN INNER PRODUCT \n",
    "\n",
    "def h(n:int,Z:np.ndarray,W:np.ndarray) -> np.ndarray:\n",
    "    \"\"\" \n",
    "    Quadratic form h used in action functional \n",
    "\n",
    "    :param n: complex dimension of CP^n\n",
    "    :type n: int\n",
    "\n",
    "    :param Z: (samples,2n + 2,1) real column vector \n",
    "    :type Z: np.ndarray\n",
    "\n",
    "    :param W: (samples,2n + 2,1) real column vector \n",
    "    :type W: np.ndarray\n",
    "\n",
    "    :returns: h(Z,W) for each sample\n",
    "    :rtype: np.ndarray\n",
    "    \"\"\"\n",
    "    id = np.eye(2*(n + 1))\n",
    "\n",
    "    sigma_y = np.array([[0,-1j],[1j,0]])\n",
    "\n",
    "    J = block_diag(*[sigma_y for _ in range(n+1)])\n",
    "\n",
    "    # result = np.inner(Z.flatten(), ((id + J) @ W).flatten())\n",
    "    result = ( Z.transpose(0,-1,1) @ ( (id + J) @ W) ).flatten()\n",
    "\n",
    "    return result\n",
    "\n",
    "def Scmplx(z:complex,w:complex,beta:float) -> float:\n",
    "    return  - beta * np.inner(z,w.conjugate()) * np.inner(w, z.conjugate())\n",
    "\n",
    "# TOY MODEL ACTION FUNCTIONAL\n",
    "\n",
    "def S(n:int, Z:np.ndarray,W:np.ndarray,beta:float) -> float: # action on real variables\n",
    "    return  - beta * h(n,Z,W) * h(n,W,Z)\n",
    "\n",
    "# 2X2 ROTATION MATRIX FOR SAMPLING SPHERE\n",
    "def R(t:float) -> np.ndarray:\n",
    "    \"\"\"\n",
    "    2x2 roation matrix \n",
    "\n",
    "    :param t: rotation angle\n",
    "    :type t: float\n",
    "\n",
    "    :returns: rotation matrix np.array([[cos(t),-sin(t)],[sin(t),cos(t)]])\n",
    "    :rtype: np.ndarray\n",
    "    \"\"\"\n",
    "\n",
    "    c = np.cos(t)\n",
    "    s = np.sin(t)\n",
    "\n",
    "    return np.array([[c,-s],[s,c]])\n",
    "\n",
    "# LINEAR ALGEBRA\n",
    "\n",
    "def inner(a,X): # inner product <X,a>\n",
    "    \"\"\"\n",
    "    shape X,a = (samples, 2n + 2, 1)\n",
    "    \"\"\"\n",
    "\n",
    "    assert X.shape == a.shape\n",
    "    assert len(X.shape) == 3\n",
    "    assert X.shape[-1] == 1\n",
    "\n",
    "    return X.transpose(0,-1,1) @ a\n",
    "\n",
    "def outer(a,X): # outer product \n",
    "    \"\"\"\n",
    "    shape X,a = (samples, 2n + 2, 1)\n",
    "    \"\"\"\n",
    "\n",
    "    assert X.shape == a.shape\n",
    "    assert len(X.shape) == 3\n",
    "    assert X.shape[-1] == 1\n",
    "\n",
    "    return a * X.transpose(0,-1,1) \n",
    "\n",
    "def proj(a,X): # projection a ortho X where X has norm 1\n",
    "\n",
    "    # would like to assert that X has norm 1\n",
    "    # assert np.abs(1 - np.linalg.norm(X)) <= 1e-8\n",
    "\n",
    "    inner_Xa = inner(X,a)\n",
    "    \n",
    "    return (a - inner_Xa * X) \n",
    "\n",
    "# def M(a,X):\n",
    "#     \"\"\"\n",
    "#     shape X,a = (samples, 2n + 2, 1)\n",
    "#     \"\"\"\n",
    "\n",
    "#     id = np.eye(X.shape[1])\n",
    "\n",
    "#     inner_Xa = inner(X,a)\n",
    "\n",
    "#     numerator = outer(a,a-X) - id * inner_Xa * ( 1 -  inner_Xa) \n",
    "\n",
    "#     denom = (1 - inner_Xa)**2\n",
    "\n",
    "#     return numerator / denom\n",
    "\n",
    "# def proj(a,X): # projection a ortho X\n",
    "\n",
    "#     inner_Xa = inner(X,a)\n",
    "    \n",
    "#     return (a - inner_Xa * X) / (1 - inner_Xa)\n",
    "\n",
    "# JACOBIAN TOY MODEL\n",
    "\n",
    "def M(a,X):\n",
    "    \"\"\"\n",
    "    shape X,a = (samples, 2n + 2, 1)\n",
    "    \"\"\"\n",
    "\n",
    "    assert X.shape == a.shape\n",
    "    assert len(X.shape) == 3\n",
    "    assert X.shape[-1] == 1\n",
    "\n",
    "    id = np.eye(X.shape[1])\n",
    "\n",
    "    inner_Xa = inner(X,a)\n",
    "\n",
    "    return - outer(a,X) - id * inner_Xa \n",
    "\n",
    "\n",
    "def Jac(a,X):\n",
    "\n",
    "    Y = proj(a,X)\n",
    "\n",
    "    lam = np.sqrt(1 + inner(Y,Y)) # shape (samples,1,1)\n",
    "\n",
    "    id = np.eye(X.shape[1])\n",
    "\n",
    "    MM = M(a,X)\n",
    "\n",
    "    J = id*lam + outer( (MM @ Y), X) / lam + 1j*MM\n",
    "\n",
    "    det = np.linalg.det(J) # shape (samples,)\n",
    "\n",
    "    return det / lam.flatten()**2 # IS THIS CORRECT?\n",
    "\n",
    "# COMPLEXIFICATION \n",
    "\n",
    "def tildeZ(a,X): # paramerisation of (analytical continuation of) Z\n",
    "\n",
    "    Y = proj(a,X)\n",
    "\n",
    "    return X * np.sqrt(1 + inner(Y,Y)) + 1j*Y\n",
    "\n",
    "# MCMC\n",
    "\n",
    "def sweep_sphere(phi:list,pairs:list,f) -> int:  \n",
    "    \"\"\"\n",
    "    sweeping the sphere\n",
    "\n",
    "    :param n: complex dimension CP^n\n",
    "    :type n: int\n",
    "    \"\"\"\n",
    "\n",
    "    alpha = 0 # number accepted\n",
    "\n",
    "    # LOOP OVER COMPONENTS \n",
    "    for pair in pairs:\n",
    "        a,b = pair # unpack indices\n",
    "        phi_old = phi[-1] # current state \n",
    "\n",
    "        # SAMPLE 2x2 ROTATION ANGLE\n",
    "        # theta = np.random.vonmises(mu=0.0,kappa=2)\n",
    "        theta = np.random.normal(loc=0,scale=1)\n",
    "\n",
    "        # ROTATE COMPONENT\n",
    "        v = np.array([phi_old[a],phi_old[b]])\n",
    "        vnew = R(theta) @ v\n",
    "\n",
    "        # PROPOSE NEW STATE\n",
    "        phi_new = phi_old.copy()\n",
    " \n",
    "        phi_new[a] = vnew[0]\n",
    "        phi_new[b] = vnew[1]\n",
    "    \n",
    "        # ACCEPTENCE PROBABILITIES\n",
    "        A = np.minimum(1, f(phi_new[np.newaxis,:,:]) / (f(phi_old[np.newaxis,:,:])) ) # newaxis since f takes list of vectors: shape = (smaples,2n+2,1)\n",
    "\n",
    "        # CHECK IF ACCEPTED\n",
    "        p = np.random.uniform(low=0,high=1) # draw vector of uniform rnds\n",
    "        \n",
    "        if p <= A : # accept if p < A\n",
    "            phi.append(phi_new)\n",
    "            alpha += 1\n",
    "        else:\n",
    "            phi.append(phi_old)\n",
    "\n",
    "    return alpha / len(pairs)\n",
    "\n",
    "\n",
    "def MCMC_toy(n:int, Z0:complex,W0:complex,beta:float,N_steps:int,burnin:int,k:int) -> tuple[np.ndarray,float,np.ndarray]:\n",
    "    \"\"\"\n",
    "    :param n: complex dimension CP^n \n",
    "    :type n: int\n",
    "    \"\"\"\n",
    "\n",
    "    N = 2*n + 2 # real dimension (before quotient by C^*)\n",
    "    pairs = list(combinations(np.arange(N),2)) # indices of pairs to rotate\n",
    "\n",
    "    # SETUP\n",
    "    Z = [Z0] \n",
    "    W = [W0]\n",
    "\n",
    "    alpha = 0 # number accepted\n",
    "\n",
    "    expSw = lambda z: np.exp( -S(n,z,W[-1][np.newaxis,:,:],beta) ) # w fixed\n",
    "    expSz = lambda w: np.exp( -S(n,Z[-1][np.newaxis,:,:],w,beta) ) # z fixed\n",
    "\n",
    "    for _ in tqdm(range(N_steps)): # tqdm for progress bar\n",
    "\n",
    "        alpha += sweep_sphere(phi=Z,pairs=pairs,f=expSw) \n",
    "        alpha += sweep_sphere(phi=W,pairs=pairs,f=expSz)\n",
    "       \n",
    "    samples_Z, samples_W = (np.array(Z)[burnin::k], np.array(W)[burnin::k])\n",
    "\n",
    "    acception_rate = alpha / (2*N_steps) \n",
    "\n",
    "    return (samples_Z, samples_W, acception_rate)\n",
    "\n"
   ]
  },
  {
   "cell_type": "markdown",
   "metadata": {},
   "source": [
    "## Undeformed Path Integral"
   ]
  },
  {
   "cell_type": "code",
   "execution_count": null,
   "metadata": {},
   "outputs": [
    {
     "name": "stderr",
     "output_type": "stream",
     "text": [
      "100%|██████████| 10000/10000 [00:25<00:00, 395.18it/s]\n"
     ]
    },
    {
     "name": "stdout",
     "output_type": "stream",
     "text": [
      "1/10\r"
     ]
    },
    {
     "name": "stderr",
     "output_type": "stream",
     "text": [
      "100%|██████████| 10000/10000 [00:25<00:00, 399.14it/s]\n"
     ]
    },
    {
     "name": "stdout",
     "output_type": "stream",
     "text": [
      "2/10\r"
     ]
    },
    {
     "name": "stderr",
     "output_type": "stream",
     "text": [
      "100%|██████████| 10000/10000 [00:26<00:00, 384.43it/s]\n"
     ]
    },
    {
     "name": "stdout",
     "output_type": "stream",
     "text": [
      "3/10\r"
     ]
    },
    {
     "name": "stderr",
     "output_type": "stream",
     "text": [
      "100%|██████████| 10000/10000 [00:26<00:00, 375.74it/s]\n"
     ]
    },
    {
     "name": "stdout",
     "output_type": "stream",
     "text": [
      "4/10\r"
     ]
    },
    {
     "name": "stderr",
     "output_type": "stream",
     "text": [
      "100%|██████████| 10000/10000 [00:26<00:00, 377.99it/s]\n"
     ]
    },
    {
     "name": "stdout",
     "output_type": "stream",
     "text": [
      "5/10\r"
     ]
    },
    {
     "name": "stderr",
     "output_type": "stream",
     "text": [
      "100%|██████████| 10000/10000 [00:26<00:00, 377.05it/s]\n"
     ]
    },
    {
     "name": "stdout",
     "output_type": "stream",
     "text": [
      "6/10\r"
     ]
    },
    {
     "name": "stderr",
     "output_type": "stream",
     "text": [
      "100%|██████████| 10000/10000 [00:26<00:00, 381.66it/s]\n"
     ]
    },
    {
     "name": "stdout",
     "output_type": "stream",
     "text": [
      "7/10\r"
     ]
    },
    {
     "name": "stderr",
     "output_type": "stream",
     "text": [
      "100%|██████████| 10000/10000 [00:25<00:00, 387.43it/s]\n"
     ]
    },
    {
     "name": "stdout",
     "output_type": "stream",
     "text": [
      "8/10\r"
     ]
    },
    {
     "name": "stderr",
     "output_type": "stream",
     "text": [
      "100%|██████████| 10000/10000 [00:26<00:00, 378.49it/s]\n"
     ]
    },
    {
     "name": "stdout",
     "output_type": "stream",
     "text": [
      "running time: 235.13s\n"
     ]
    }
   ],
   "source": [
    "n = 2\n",
    "\n",
    "# INITIAL POINTS ON SPHERE\n",
    "Z0 = np.random.normal(loc=0,scale=1,size = (2*n + 2)).reshape(-1,1)\n",
    "Z0 /= np.linalg.norm(Z0)\n",
    "\n",
    "W0 = np.random.normal(loc=0,scale=1,size = (2*n + 2)).reshape(-1,1)\n",
    "W0 /= np.linalg.norm(W0)\n",
    "\n",
    "N_steps = 10_000\n",
    "\n",
    "t0 = time.time()\n",
    "\n",
    "obs = []\n",
    "\n",
    "Nbeta = 10\n",
    "\n",
    "for beta in range(1,Nbeta):\n",
    "\n",
    "    Z_samples, W_samples, alpha = MCMC_toy(n=n,Z0=Z0,W0=W0,beta=beta,N_steps=N_steps,burnin=200,k=5)\n",
    "    obs.append(- S(n,Z_samples,W_samples,beta).real.mean()/beta)\n",
    "\n",
    "    print(f'{beta}/{Nbeta}',end='\\r')\n",
    "\n",
    "\n",
    "print(f'running time: {time.time() - t0:.2f}s')\n"
   ]
  },
  {
   "cell_type": "code",
   "execution_count": 5,
   "metadata": {},
   "outputs": [
    {
     "data": {
      "image/png": "[encoded data removed]",
      "text/plain": [
       "<Figure size 640x480 with 1 Axes>"
      ]
     },
     "metadata": {},
     "output_type": "display_data"
    }
   ],
   "source": [
    "beta = range(1,Nbeta)\n",
    "plt.plot(beta,obs,'o-')\n",
    "plt.xlabel(f'$\\\\beta$')\n",
    "plt.ylabel(f'$E[S / \\\\beta]$')\n",
    "plt.title(f'{n = } , {N_steps = :_d}, {alpha = :.2f}');"
   ]
  },
  {
   "cell_type": "markdown",
   "metadata": {},
   "source": [
    "## Deformation "
   ]
  },
  {
   "cell_type": "markdown",
   "metadata": {},
   "source": [
    "Idea: \n",
    "\n",
    "1. deform $S^{2n + 1} \\to Q$ via $Z \\to \\tilde Z = Z + i \\zeta_a(Z)$  \n",
    "\n",
    "\n",
    "2. parametrize $Q$ via $TS^{2n+1}$:\n",
    "\n",
    "   $$Q \\ni \\tilde Z(X) = X \\sqrt{1 + \\lVert Y_a(X) \\rVert^2} + i Y_a(X)$$\n",
    "\n",
    "   where $X \\in S^{2n +1 }$ and \n",
    "   \n",
    "   $$Y(X,a) = \\frac{a - \\langle a, X \\rangle X}{1 - \\langle a, X \\rangle} \\in T_X S^{2n + 1} \\quad , \\quad a \\in \\mathbb{R}^{2n + 2}$$\n",
    "\n",
    "3. compute \n",
    "\n",
    "   $$\\langle \\mathcal{O}(Z) \\rangle _Q = \\langle \\det J(X) \\mathcal{O}(\\tilde Z(X)) e^{- (S(\\tilde Z(X)) - S(X))}\\rangle _{e^{-S(X)}}$$\n",
    "\n",
    "\n",
    "\n",
    "To do:\n",
    "\n",
    "1. choose $a \\in \\mathbb{R}^{2n + 1}$ fixed constant\n",
    "\n",
    "2. compute $Y_a(X)$ \n",
    "\n",
    "3. compute $\\lambda(a,X) = \\sqrt{1 + \\lVert Y_a(X) \\rVert^2}$\n",
    "\n",
    "4. compute $J_{ij} = \\lambda \\delta_{ij} + \\frac{(M Y)_i X_j}{\\lambda} + i M_{ij}$ where\n",
    "\n",
    "$$M_{ij} = \\partial_{X_i}(Y_a(X))_j = \\frac{a_i(a_j - X_j) - \\delta_{ij} \\langle a, X\\rangle (1 - \\langle a, X\\rangle )}{(1 - \\langle a, X\\rangle)^2}$$\n",
    "\n"
   ]
  },
  {
   "cell_type": "code",
   "execution_count": null,
   "metadata": {},
   "outputs": [
    {
     "name": "stdout",
     "output_type": "stream",
     "text": [
      "running time: 2.12s\n",
      "\n",
      "obs.mean() = (0.9892719472159569+0.017389351334043734j) \n",
      "\n",
      "obs.std() / np.sqrt(len(X_samples)) = 0.011309764779520863\n"
     ]
    }
   ],
   "source": [
    "n = 2\n",
    "\n",
    "# INITIAL POINTS ON SPHERE\n",
    "X0 = np.random.normal(loc=0,scale=1,size = (2*n + 2)).reshape(-1,1)\n",
    "X0 /= np.linalg.norm(X0)\n",
    "\n",
    "W0 = np.random.normal(loc=0,scale=1,size = (2*n + 2)).reshape(-1,1)\n",
    "W0 /= np.linalg.norm(W0)\n",
    "\n",
    "N_steps = 1_000\n",
    "\n",
    "t0 = time.time()\n",
    "\n",
    "beta = 1\n",
    "\n",
    "X_samples, W_samples, alpha = MCMC_toy(n=n,Z0=X0,W0=W0,beta=beta,N_steps=N_steps,burnin=100,k=3)\n",
    "\n",
    "a = 0.1*np.ones_like(X_samples)\n",
    "\n",
    "tildeZ_samples = tildeZ(a,X_samples)\n",
    "\n",
    "obs = Jac(a,X_samples) * np.exp( - ( S(n,tildeZ_samples,W_samples,beta) - S(n,X_samples,W_samples,beta) ) )\n",
    "\n",
    "print(f'running time: {time.time() - t0:.2f}s\\n')\n",
    "\n",
    "print(f'{obs.mean() = } \\n')\n",
    "print(f'{obs.std() / np.sqrt(len(X_samples)) = }')"
   ]
  },
  {
   "cell_type": "code",
   "execution_count": null,
   "metadata": {},
   "outputs": [],
   "source": []
  },
  {
   "cell_type": "markdown",
   "metadata": {},
   "source": [
    "## Tests"
   ]
  },
  {
   "cell_type": "code",
   "execution_count": 36,
   "metadata": {},
   "outputs": [
    {
     "data": {
      "image/png": "[encoded data removed]",
      "text/plain": [
       "<Figure size 640x480 with 1 Axes>"
      ]
     },
     "metadata": {},
     "output_type": "display_data"
    }
   ],
   "source": [
    "# TESTING S : REAL VS CMPLX\n",
    "\n",
    "# REAL SETUP\n",
    "n = 3 # complex dimension of CP^n\n",
    "\n",
    "diff_re, diff_im, S_real_im, S_cmplx_im = [], [], [], []\n",
    "\n",
    "for i in range(100):\n",
    "    Z = np.random.normal(loc=0,scale=1,size = (2*n + 2)).reshape(-1,1)\n",
    "    Z/= np.linalg.norm(Z)\n",
    "\n",
    "    W = np.random.normal(loc=0,scale=1,size = (2*n + 2)).reshape(-1,1)\n",
    "    W /= np.linalg.norm(W)\n",
    "\n",
    "\n",
    "    # COMPARISON WITH COMPLEX ACTION\n",
    "    reZ = Z[0::2]\n",
    "    imZ = Z[1::2]\n",
    "\n",
    "    reW = W[0::2]\n",
    "    imW = W[1::2]\n",
    "\n",
    "    z = np.array([a + b*1j for a,b in zip(reZ,imZ)])\n",
    "    w = np.array([a + b*1j for a,b in zip(reW,imW)])\n",
    "\n",
    "    # DIM NEEDED FOR S (samples,2n+2,1)\n",
    "    Z = Z[np.newaxis,:,:]\n",
    "    W = W[np.newaxis,:,:]\n",
    "\n",
    "    # print(f'{S(n,Z,W,beta=1) = }')\n",
    "    # print(f'{Scmplx(z.flatten(),w.flatten(),beta=1) = }')\n",
    "    diff_re.append((S(n,Z,W,beta=1) - Scmplx(z.flatten(),w.flatten(),beta=1)).real)\n",
    "    diff_im.append((S(n,Z,W,beta=1) - Scmplx(z.flatten(),w.flatten(),beta=1)).imag)\n",
    "    S_real_im.append(S(n,Z,W,beta=1).imag)\n",
    "    S_cmplx_im.append(Scmplx(z.flatten(),w.flatten(),beta=1).imag)\n",
    "\n",
    "# print(f'S - Scmpl = {(S(n,Z,W,beta=1) - Scmplx(z.flatten(),w.flatten(),beta=1)).real}')\n",
    "names = ['diff_re','diff_im','S_real_im','S_cmplx_im']\n",
    "i = 0\n",
    "for f in [diff_re,diff_im,S_real_im,S_cmplx_im]:\n",
    "    plt.plot(f,label=names[i])\n",
    "    i+=1\n",
    "\n",
    "plt.title('im(S) and S-Scmplx')\n",
    "plt.legend();"
   ]
  },
  {
   "cell_type": "code",
   "execution_count": 52,
   "metadata": {},
   "outputs": [
    {
     "data": {
      "image/png": "[encoded data removed]",
      "text/plain": [
       "<Figure size 640x480 with 1 Axes>"
      ]
     },
     "metadata": {},
     "output_type": "display_data"
    }
   ],
   "source": [
    "data = np.random.vonmises(0.0,2,size=10_000)\n",
    "plt.hist(data,bins=30)\n",
    "plt.title('angles drawn from von Mises diatr');"
   ]
  },
  {
   "cell_type": "code",
   "execution_count": 53,
   "metadata": {},
   "outputs": [
    {
     "name": "stdout",
     "output_type": "stream",
     "text": [
      "x_prime - x = array([0., 0., 0.])\n",
      "y_prime - y = array([0., 0., 0.])\n",
      "w - z = 0j\n"
     ]
    }
   ],
   "source": [
    "# TESTING DIFFS\n",
    "x = np.array([1,0,0])\n",
    "y = np.array([0,1,0])\n",
    "\n",
    "u = np.array([1,0,0])\n",
    "v = np.array([0,1,0])\n",
    "\n",
    "z = 1 + 2j\n",
    "\n",
    "x_prime,y_prime = invPsi(Psi((x,y)))\n",
    "print(f'{x_prime - x = }')\n",
    "print(f'{y_prime - y = }')\n",
    "\n",
    "w = Psi(invPsi(z))\n",
    "print(f'{w - z = }')"
   ]
  },
  {
   "cell_type": "code",
   "execution_count": null,
   "metadata": {},
   "outputs": [],
   "source": []
  }
 ],
 "metadata": {
  "kernelspec": {
   "display_name": "DS",
   "language": "python",
   "name": "python3"
  },
  "language_info": {
   "codemirror_mode": {
    "name": "ipython",
    "version": 3
   },
   "file_extension": ".py",
   "mimetype": "text/x-python",
   "name": "python",
   "nbconvert_exporter": "python",
   "pygments_lexer": "ipython3",
   "version": "3.11.10"
  }
 },
 "nbformat": 4,
 "nbformat_minor": 2
}
